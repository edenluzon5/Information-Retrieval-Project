{
  "nbformat": 4,
  "nbformat_minor": 0,
  "metadata": {
    "colab": {
      "provenance": []
    },
    "kernelspec": {
      "name": "python3",
      "display_name": "Python 3"
    },
    "language_info": {
      "name": "python"
    }
  },
  "cells": [
    {
      "cell_type": "code",
      "execution_count": null,
      "metadata": {
        "id": "ue93XSh6_SDO"
      },
      "outputs": [],
      "source": [
        "# if the following command generates an error, you probably didn't enable \n",
        "# the cluster security option \"Allow API access to all Google Cloud services\"\n",
        "# under Manage Security → Project Access when setting up the cluster\n",
        "!gcloud dataproc clusters list --region us-central1"
      ]
    },
    {
      "cell_type": "code",
      "source": [
        "!pip install -q google-cloud-storage==1.43.0\n",
        "!pip install -q graphframes"
      ],
      "metadata": {
        "id": "k_9DWXuPAI-C"
      },
      "execution_count": null,
      "outputs": []
    },
    {
      "cell_type": "code",
      "source": [
        "import pyspark\n",
        "import sys\n",
        "from collections import Counter, OrderedDict, defaultdict\n",
        "import itertools\n",
        "from itertools import islice, count, groupby\n",
        "import pandas as pd\n",
        "import os\n",
        "import re\n",
        "from operator import itemgetter\n",
        "import nltk\n",
        "from nltk.stem.porter import *\n",
        "from nltk.corpus import stopwords\n",
        "from time import time\n",
        "from pathlib import Path\n",
        "import pickle\n",
        "import pandas as pd\n",
        "from google.cloud import storage\n",
        "\n",
        "import hashlib\n",
        "def _hash(s):\n",
        "    return hashlib.blake2b(bytes(s, encoding='utf8'), digest_size=5).hexdigest()\n",
        "\n",
        "nltk.download('stopwords')"
      ],
      "metadata": {
        "id": "kEBMGqP8AKi8"
      },
      "execution_count": null,
      "outputs": []
    },
    {
      "cell_type": "code",
      "source": [
        "# if nothing prints here you forgot to include the initialization script when starting the cluster\n",
        "!ls -l /usr/lib/spark/jars/graph*"
      ],
      "metadata": {
        "id": "iksVOm-tAOAH"
      },
      "execution_count": null,
      "outputs": []
    },
    {
      "cell_type": "code",
      "source": [
        "from pyspark.sql import *\n",
        "from pyspark.sql.functions import *\n",
        "from pyspark import SparkContext, SparkConf, SparkFiles\n",
        "from pyspark.sql import SQLContext\n",
        "from graphframes import *"
      ],
      "metadata": {
        "id": "aG5evy9hAP4i"
      },
      "execution_count": null,
      "outputs": []
    },
    {
      "cell_type": "code",
      "source": [
        "spark"
      ],
      "metadata": {
        "id": "MDgdtab8ASUW"
      },
      "execution_count": null,
      "outputs": []
    },
    {
      "cell_type": "code",
      "source": [
        "# Put your bucket name below and make sure you can access it without an error\n",
        "bucket_name = '316608942a' \n",
        "\n",
        "full_path = f\"gs://{bucket_name}/\"\n",
        "paths=[]\n",
        "\n",
        "client = storage.Client()\n",
        "blobs = client.list_blobs(bucket_name)\n",
        "for b in blobs:\n",
        "    if b.name != 'graphframes.sh':\n",
        "        paths.append(full_path+b.name)"
      ],
      "metadata": {
        "id": "Z8371eIHAVUt"
      },
      "execution_count": null,
      "outputs": []
    },
    {
      "cell_type": "code",
      "source": [
        "parquetFile = spark.read.parquet(*paths)\n",
        "doc_text_pairs = parquetFile.select(\"text\", \"id\").rdd\n",
        "doc_title_pairs = parquetFile.select(\"title\",\"id\").rdd\n",
        "doc_anchor_pairs = parquetFile.select(\"anchor_text\").rdd"
      ],
      "metadata": {
        "id": "QDccMmzeBw-5"
      },
      "execution_count": null,
      "outputs": []
    },
    {
      "cell_type": "code",
      "source": [
        "# if nothing prints here you forgot to upload the file inverted_index_gcp.py to the home dir\n",
        "%cd -q /home/dataproc\n",
        "!ls inverted_index_gcp.py"
      ],
      "metadata": {
        "id": "e4fNuOZ2CEB4"
      },
      "execution_count": null,
      "outputs": []
    },
    {
      "cell_type": "code",
      "source": [
        "# adding our python module to the cluster\n",
        "sc.addFile(\"/home/dataproc/inverted_index_gcp.py\")\n",
        "sys.path.insert(0,SparkFiles.getRootDirectory())"
      ],
      "metadata": {
        "id": "ltod0E2jCGmn"
      },
      "execution_count": null,
      "outputs": []
    },
    {
      "cell_type": "code",
      "source": [
        "from inverted_index_gcp import InvertedIndex"
      ],
      "metadata": {
        "id": "KhOYMhYPCKX9"
      },
      "execution_count": null,
      "outputs": []
    },
    {
      "cell_type": "code",
      "source": [
        "def anchor_change(doc_anchor):\n",
        "  edge_set = []\n",
        "  for id, anchor in doc_anchor[0]:\n",
        "    if (id, anchor) in edge_set:\n",
        "      continue\n",
        "    else:\n",
        "      edge_set.append((id, anchor))\n",
        "  return edge_set\n",
        "\n",
        "doc_anchor_pairs_new = doc_anchor_pairs.flatMap(anchor_change).distinct().groupByKey().mapValues(list).map(lambda x:(\" \".join(x[1]),x[0]))"
      ],
      "metadata": {
        "id": "-PLhZXEnCPij"
      },
      "execution_count": null,
      "outputs": []
    },
    {
      "cell_type": "code",
      "source": [
        "english_stopwords = frozenset(stopwords.words('english'))\n",
        "corpus_stopwords =[\"category\", \"references\", \"also\", \"external\", \"links\", \n",
        "                    \"may\", \"first\", \"see\", \"history\", \"people\", \"one\", \"two\", \n",
        "                    \"part\", \"thumb\", \"including\", \"second\", \"following\", \n",
        "                    \"many\", \"however\", \"would\", \"became\"]\n",
        "RE_WORD = re.compile(r\"\"\"[\\#\\@\\w](['\\-]?\\w){2,24}\"\"\", re.UNICODE)\n",
        "all_stopwords = english_stopwords.union(corpus_stopwords)\n",
        "\n",
        "#remember to change NUM_BUCKETS back to 124 \n",
        "NUM_BUCKETS = 124\n",
        "def token2bucket_id(token):\n",
        "  return int(_hash(token),16) % NUM_BUCKETS\n",
        "\n",
        "def tokenize(text):\n",
        "    \"\"\"\n",
        "    This function aims in tokenize a text into a list of tokens. Moreover, it filter stopwords.\n",
        "    \n",
        "    Parameters:\n",
        "    -----------\n",
        "    text: string , represting the text to tokenize.    \n",
        "    \n",
        "    Returns:\n",
        "    -----------\n",
        "    list of tokens (e.g., list of tokens).\n",
        "    \"\"\"\n",
        "    list_of_tokens =  [token.group() for token in RE_WORD.finditer(text.lower()) if token.group() not in all_stopwords]    \n",
        "    return list_of_tokens\n",
        "\n",
        "def word_count(text, id):\n",
        "  ''' Count the frequency of each word in `text` (tf) that is not included in \n",
        "  `all_stopwords` and return entries that will go into our posting lists. \n",
        "  Parameters:\n",
        "  -----------\n",
        "    text: str\n",
        "      Text of one document\n",
        "    id: int\n",
        "      Document id\n",
        "  Returns:\n",
        "  --------\n",
        "    List of tuples\n",
        "      A list of (token, (doc_id, tf)) pairs \n",
        "      for example: [(\"Anarchism\", (12, 5)), ...]\n",
        "  '''\n",
        "  tokens = [token.group() for token in RE_WORD.finditer(text.lower())]\n",
        "  # YOUR CODE HERE\n",
        "  return([(k,(id,v)) for k,v in Counter(tokens).items() if k not in all_stopwords and v>0])\n",
        "\n",
        "def reduce_word_counts(unsorted_pl):\n",
        "  ''' Returns a sorted posting list by wiki_id.\n",
        "  Parameters:\n",
        "  -----------\n",
        "    unsorted_pl: list of tuples\n",
        "      A list of (wiki_id, tf) tuples \n",
        "  Returns:\n",
        "  --------\n",
        "    list of tuples\n",
        "      A sorted posting list.\n",
        "  '''\n",
        "  # YOUR CODE HERE\n",
        "  return sorted(unsorted_pl, key=lambda tup: tup[0])\n",
        "\n",
        "def calculate_df(postings):\n",
        "  ''' Takes a posting list RDD and calculate the df for each token.\n",
        "  Parameters:\n",
        "  -----------\n",
        "    postings: RDD\n",
        "      An RDD where each element is a (token, posting_list) pair.\n",
        "  Returns:\n",
        "  --------\n",
        "    RDD\n",
        "      An RDD where each element is a (token, df) pair.\n",
        "  '''\n",
        "  # YOUR CODE HERE\n",
        "  return postings.map(lambda x:(x[0],len(x[1])))\n",
        "\n",
        "def partition_postings_and_write(postings,path):\n",
        "  ''' A function that partitions the posting lists into buckets, writes out \n",
        "  all posting lists in a bucket to disk, and returns the posting locations for \n",
        "  each bucket. Partitioning should be done through the use of `token2bucket` \n",
        "  above. Writing to disk should use the function  `write_a_posting_list`, a \n",
        "  static method implemented in inverted_index_colab.py under the InvertedIndex \n",
        "  class. \n",
        "  Parameters:\n",
        "  -----------\n",
        "    postings: RDD\n",
        "      An RDD where each item is a (w, posting_list) pair.\n",
        "  Returns:\n",
        "  --------\n",
        "    RDD\n",
        "      An RDD where each item is a posting locations dictionary for a bucket. The\n",
        "      posting locations maintain a list for each word of file locations and \n",
        "      offsets its posting list was written to. See `write_a_posting_list` for \n",
        "      more details.\n",
        "  '''\n",
        "  # YOUR CODE HERE\n",
        "  dict1 = postings.map(lambda token: (token2bucket_id(token[0]), token)).groupByKey()\n",
        "  return dict1.map(lambda x: InvertedIndex.write_a_posting_list(x,bucket_name,path))\n",
        "\n",
        "def calc_dl(tokens,doc_id):\n",
        "  return (doc_id,len(tokens))\n",
        "\n",
        "def calc_total_term(postings):\n",
        "  return postings.mapValues(helpFunc).collectAsMap()\n",
        "\n",
        "def helpFunc(posting):\n",
        "  count=0\n",
        "  for tup in posting:\n",
        "    count+=tup[1]\n",
        "  return count\n",
        "\n",
        "def doc_norm(text,doc_id,body_dl,N,body_df):\n",
        "  tokens=tokenize(text)\n",
        "  dict_tokens=Counter(tokens)\n",
        "  sum=0\n",
        "  for term, tf in dict_tokens.items():\n",
        "    if term in body_df:\n",
        "      sum+=((tf/len(tokens))*math.log(N/body_df[term]))**2\n",
        "  return (doc_id,math.sqrt(sum))\n"
      ],
      "metadata": {
        "id": "Lk121j_hCv1v"
      },
      "execution_count": null,
      "outputs": []
    },
    {
      "cell_type": "code",
      "source": [
        "min_body=50\n",
        "!mkdir body_index title_index anchor_index"
      ],
      "metadata": {
        "id": "x1Lcc8GIDP32"
      },
      "execution_count": null,
      "outputs": []
    },
    {
      "cell_type": "code",
      "source": [
        "#body\n",
        "word_count_bodys = doc_text_pairs.flatMap(lambda x: word_count(x[0], x[1]))\n",
        "posting_lists_body = word_count_bodys.groupByKey().mapValues(reduce_word_counts)\n",
        "filter_bodys = posting_lists_body.filter(lambda x: len(x[1])>min_body)\n",
        "#global statistics\n",
        "body_df=calculate_df(filter_bodys).collectAsMap()\n",
        "posting_locs_body = partition_postings_and_write(filter_bodys,'body_index').collect()\n",
        "body_total_term=calc_total_term(filter_bodys)\n",
        "body_dl=doc_text_pairs.map(lambda x: calc_dl(tokenize(x[0]),x[1])).collectAsMap()\n",
        "body_norm=doc_text_pairs.map(lambda x: doc_norm(x[0],x[1])).collectAsMap()\n",
        "super_posting_locs_body = defaultdict(list)\n",
        "\n",
        "#title\n",
        "word_count_titles = doc_title_pairs.flatMap(lambda x: word_count(x[0], x[1]))\n",
        "posting_lists_title = word_count_titles.groupByKey().mapValues(reduce_word_counts)\n",
        "#global statistics\n",
        "title_df=calculate_df(posting_lists_title).collectAsMap()\n",
        "posting_locs_title = partition_postings_and_write(posting_lists_title,'title_index').collect()\n",
        "title_total_term=calc_total_term(posting_lists_title)\n",
        "title_dl=doc_title_pairs.map(lambda x: calc_dl(tokenize(x[0]),x[1])).collectAsMap()\n",
        "title_norm=doc_title_pairs.map(lambda x: doc_norm(x[0],x[1])).collectAsMap()\n",
        "super_posting_locs_title = defaultdict(list)\n",
        "\n",
        "# #Anchor\n",
        "word_count_anchors = doc_anchor_pairs_new.flatMap(lambda x: word_count(x[0], x[1]))\n",
        "posting_lists_anchor = word_count_anchors.groupByKey().mapValues(reduce_word_counts)\n",
        "#global statistics\n",
        "anchor_df=calculate_df(posting_lists_anchor).collectAsMap()\n",
        "posting_locs_anchor = partition_postings_and_write(posting_lists_anchor,'anchor_index').collect()\n",
        "anchor_total_term=calc_total_term(posting_lists_anchor)\n",
        "anchor_dl=doc_anchor_pairs_new.map(lambda x: calc_dl(tokenize(x[0]),x[1])).collectAsMap()\n",
        "anchor_norm=doc_anchor_pairs_new.map(lambda x: doc_norm(x[0],x[1])).collectAsMap()\n",
        "super_posting_locs_anchor = defaultdict(list)\n"
      ],
      "metadata": {
        "id": "xDzrjAx9DTys"
      },
      "execution_count": null,
      "outputs": []
    },
    {
      "cell_type": "code",
      "source": [
        "#body\n",
        "for blob in client.list_blobs(bucket_name, prefix='postings_gcp'):\n",
        "  if not blob.name.endswith(\"pickle\"):\n",
        "    continue\n",
        "  with blob.open(\"rb\") as f:\n",
        "    posting_locs = pickle.load(f)\n",
        "    for k, v in posting_locs.items():\n",
        "      super_posting_locs_body[k].extend(v)\n",
        "\n",
        "#title\n",
        "for blob in client.list_blobs(bucket_name, prefix='postings_gcp'):\n",
        "  if not blob.name.endswith(\"pickle\"):\n",
        "    continue\n",
        "  with blob.open(\"rb\") as f:\n",
        "    posting_locs = pickle.load(f)\n",
        "    for k, v in posting_locs.items():\n",
        "      super_posting_locs_title[k].extend(v)\n",
        "\n",
        "#anchor\n",
        "for blob in client.list_blobs(bucket_name, prefix='postings_gcp'):\n",
        "  if not blob.name.endswith(\"pickle\"):\n",
        "    continue\n",
        "  with blob.open(\"rb\") as f:\n",
        "    posting_locs = pickle.load(f)\n",
        "    for k, v in posting_locs.items():\n",
        "      super_posting_locs_anchor[k].extend(v)"
      ],
      "metadata": {
        "colab": {
          "base_uri": "https://localhost:8080/",
          "height": 235
        },
        "id": "ZUfKtYM2Eajn",
        "outputId": "f6d1cbc8-55f3-4f11-ef6b-8d0884adea98"
      },
      "execution_count": null,
      "outputs": [
        {
          "output_type": "error",
          "ename": "NameError",
          "evalue": "ignored",
          "traceback": [
            "\u001b[0;31m---------------------------------------------------------------------------\u001b[0m",
            "\u001b[0;31mNameError\u001b[0m                                 Traceback (most recent call last)",
            "\u001b[0;32m<ipython-input-1-50b1d3d3504a>\u001b[0m in \u001b[0;36m<module>\u001b[0;34m\u001b[0m\n\u001b[0;32m----> 1\u001b[0;31m \u001b[0;32mfor\u001b[0m \u001b[0mblob\u001b[0m \u001b[0;32min\u001b[0m \u001b[0mclient\u001b[0m\u001b[0;34m.\u001b[0m\u001b[0mlist_blobs\u001b[0m\u001b[0;34m(\u001b[0m\u001b[0mbucket_name\u001b[0m\u001b[0;34m,\u001b[0m \u001b[0mprefix\u001b[0m\u001b[0;34m=\u001b[0m\u001b[0;34m'postings_gcp'\u001b[0m\u001b[0;34m)\u001b[0m\u001b[0;34m:\u001b[0m\u001b[0;34m\u001b[0m\u001b[0;34m\u001b[0m\u001b[0m\n\u001b[0m\u001b[1;32m      2\u001b[0m   \u001b[0;32mif\u001b[0m \u001b[0;32mnot\u001b[0m \u001b[0mblob\u001b[0m\u001b[0;34m.\u001b[0m\u001b[0mname\u001b[0m\u001b[0;34m.\u001b[0m\u001b[0mendswith\u001b[0m\u001b[0;34m(\u001b[0m\u001b[0;34m\"pickle\"\u001b[0m\u001b[0;34m)\u001b[0m\u001b[0;34m:\u001b[0m\u001b[0;34m\u001b[0m\u001b[0;34m\u001b[0m\u001b[0m\n\u001b[1;32m      3\u001b[0m     \u001b[0;32mcontinue\u001b[0m\u001b[0;34m\u001b[0m\u001b[0;34m\u001b[0m\u001b[0m\n\u001b[1;32m      4\u001b[0m   \u001b[0;32mwith\u001b[0m \u001b[0mblob\u001b[0m\u001b[0;34m.\u001b[0m\u001b[0mopen\u001b[0m\u001b[0;34m(\u001b[0m\u001b[0;34m\"rb\"\u001b[0m\u001b[0;34m)\u001b[0m \u001b[0;32mas\u001b[0m \u001b[0mf\u001b[0m\u001b[0;34m:\u001b[0m\u001b[0;34m\u001b[0m\u001b[0;34m\u001b[0m\u001b[0m\n\u001b[1;32m      5\u001b[0m     \u001b[0mposting_locs\u001b[0m \u001b[0;34m=\u001b[0m \u001b[0mpickle\u001b[0m\u001b[0;34m.\u001b[0m\u001b[0mload\u001b[0m\u001b[0;34m(\u001b[0m\u001b[0mf\u001b[0m\u001b[0;34m)\u001b[0m\u001b[0;34m\u001b[0m\u001b[0;34m\u001b[0m\u001b[0m\n",
            "\u001b[0;31mNameError\u001b[0m: name 'client' is not defined"
          ]
        }
      ]
    },
    {
      "cell_type": "code",
      "source": [
        "#body\n",
        "index_body=InvertedIndex()\n",
        "index_body.posting_locs=super_posting_locs_body\n",
        "index_body.df=body_df\n",
        "index_body.DL=body_dl\n",
        "index_body.norma=body_norm\n",
        "index_body.term_total=body_total_term\n",
        "\n",
        "#title\n",
        "index_title=InvertedIndex()\n",
        "index_title.posting_locs=super_posting_locs_title\n",
        "index_title.df=title_df\n",
        "index_title.DL=title_dl\n",
        "index_title.norma=title_norm\n",
        "index_title.term_total=title_total_term\n",
        "\n",
        "# #anchor\n",
        "index_anchor=InvertedIndex()\n",
        "index_anchor.posting_locs=super_posting_locs_anchor\n",
        "index_anchor.df=anchor_df\n",
        "index_anchor.DL=anchor_dl\n",
        "index_anchor.norma=anchor_norm\n",
        "index_anchor.term_total=anchor_total_term\n",
        "\n",
        "index_body.write_index('.', 'index_body')\n",
        "index_anchor.write_index('.', 'index_anchor')\n",
        "index_title.write('.', 'index_title')"
      ],
      "metadata": {
        "id": "FY21DZRuFIO6"
      },
      "execution_count": null,
      "outputs": []
    },
    {
      "cell_type": "code",
      "source": [
        "# upload to gs\n",
        "index_src = \"index_body.pkl\"\n",
        "index_dst = f'gs://{bucket_name}/postings_gcp/{index_src}'\n",
        "!gsutil cp $index_src $index_dst\n",
        "\n",
        "index_src = \"index_anchor.pkl\"\n",
        "index_dst = f'gs://{bucket_name}/postings_gcp/{index_src}'\n",
        "!gsutil cp $index_src $index_dst\n",
        "\n",
        "index_src = \"index_title.pkl\"\n",
        "index_dst = f'gs://{bucket_name}/postings_gcp/{index_src}'\n",
        "!gsutil cp $index_src $index_dst"
      ],
      "metadata": {
        "id": "Sr5ewiNlGFu7"
      },
      "execution_count": null,
      "outputs": []
    },
    {
      "cell_type": "code",
      "source": [
        "!gsutil ls -lh $index_dst"
      ],
      "metadata": {
        "id": "w2zXgeglGMYx"
      },
      "execution_count": null,
      "outputs": []
    }
  ]
}